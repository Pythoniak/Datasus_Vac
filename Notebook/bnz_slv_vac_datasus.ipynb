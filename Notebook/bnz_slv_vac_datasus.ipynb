{
  "cells": [
    {
      "cell_type": "markdown",
      "source": [
        "# Etapa de Extração\r\n",
        " 1. Acesso das informação da Campanha Nacional de Vacinação contra Covid-19\r\n",
        " 2. Mais informações da API em [https://opendatasus.saude.gov.br/dataset/8e0c325d-2586-4b11-8925-4ba51acd6e6d/resource/84707ab9-8497-4f2f-8a0d-b873489a63bf/download/manual_api_vacina_covid-19.pdf](link-URL) \r\n",
        " 3. Dicionario de Dados em [https://opendatasus.saude.gov.br/dataset/8e0c325d-2586-4b11-8925-4ba51acd6e6d/resource/a8308b58-8898-4c6d-8119-400c722c71b5/download/dicionario-de-dados-vacinacao.pdf](link-URL)\r\n",
        " "
      ],
      "metadata": {
        "nteract": {
          "transient": {
            "deleting": false
          }
        }
      }
    },
    {
      "cell_type": "code",
      "source": [
        "from pyspark.sql.functions import col,coalesce,year, month\r\n",
        "from pyspark.sql import SparkSession\r\n",
        "from notebookutils import mssparkutils\r\n",
        "import requests\r\n",
        "import json\r\n",
        "\r\n",
        "\r\n",
        "#Pega a Secret no Azure Key vault e splita\r\n",
        "auth = mssparkutils.credentials.getSecret(\"psbcs-key\",\"ApiDataVacin\")\r\n",
        "auths = auth.split(';')\r\n"
      ],
      "outputs": [
        {
          "output_type": "display_data",
          "data": {
            "application/vnd.livy.statement-meta+json": {
              "spark_pool": "sparksmall",
              "session_id": "13",
              "statement_id": 4,
              "state": "finished",
              "livy_statement_state": "available",
              "queued_time": "2023-09-29T12:55:42.5026948Z",
              "session_start_time": null,
              "execution_start_time": "2023-09-29T12:55:42.6723082Z",
              "execution_finish_time": "2023-09-29T12:55:42.8861435Z",
              "spark_jobs": null,
              "parent_msg_id": "2ab08de9-84be-4df5-988f-9b2456e8df74"
            },
            "text/plain": "StatementMeta(sparksmall, 13, 4, Finished, Available)"
          },
          "metadata": {}
        }
      ],
      "execution_count": 3,
      "metadata": {}
    },
    {
      "cell_type": "markdown",
      "source": [
        "#### Requisição HTTP"
      ],
      "metadata": {
        "nteract": {
          "transient": {
            "deleting": false
          }
        }
      }
    },
    {
      "cell_type": "code",
      "source": [
        "#[0] = Url;[1] = User;[2] = password\r\n",
        "response = requests.get(auths[0],auth=(auths[1], auths[2]))\r\n",
        "json_data = json.loads(response.text)['hits']['hits']"
      ],
      "outputs": [
        {
          "output_type": "display_data",
          "data": {
            "application/vnd.livy.statement-meta+json": {
              "spark_pool": "sparksmall",
              "session_id": "13",
              "statement_id": 12,
              "state": "finished",
              "livy_statement_state": "available",
              "queued_time": "2023-09-29T13:25:13.9019166Z",
              "session_start_time": null,
              "execution_start_time": "2023-09-29T13:25:14.0456008Z",
              "execution_finish_time": "2023-09-29T13:25:15.3416694Z",
              "spark_jobs": null,
              "parent_msg_id": "f68fb636-201a-41d5-b7ab-91387b64774d"
            },
            "text/plain": "StatementMeta(sparksmall, 13, 12, Finished, Available)"
          },
          "metadata": {}
        }
      ],
      "execution_count": 11,
      "metadata": {
        "jupyter": {
          "source_hidden": false,
          "outputs_hidden": true
        },
        "nteract": {
          "transient": {
            "deleting": false
          }
        }
      }
    },
    {
      "cell_type": "markdown",
      "source": [
        "### Create Dataframe"
      ],
      "metadata": {
        "nteract": {
          "transient": {
            "deleting": false
          }
        }
      }
    },
    {
      "cell_type": "code",
      "source": [
        "df = spark.createDataFrame(json_data)"
      ],
      "outputs": [
        {
          "output_type": "display_data",
          "data": {
            "application/vnd.livy.statement-meta+json": {
              "spark_pool": "sparksmall",
              "session_id": "13",
              "statement_id": 6,
              "state": "finished",
              "livy_statement_state": "available",
              "queued_time": "2023-09-29T12:55:48.749874Z",
              "session_start_time": null,
              "execution_start_time": "2023-09-29T12:55:48.8952558Z",
              "execution_finish_time": "2023-09-29T12:55:55.2094223Z",
              "spark_jobs": null,
              "parent_msg_id": "f9d203d5-a76b-4e5f-92b6-d3ba3650c2df"
            },
            "text/plain": "StatementMeta(sparksmall, 13, 6, Finished, Available)"
          },
          "metadata": {}
        }
      ],
      "execution_count": 5,
      "metadata": {
        "jupyter": {
          "source_hidden": false,
          "outputs_hidden": false
        },
        "nteract": {
          "transient": {
            "deleting": false
          }
        }
      }
    },
    {
      "cell_type": "code",
      "source": [
        "display(df)"
      ],
      "outputs": [
        {
          "output_type": "display_data",
          "data": {
            "application/vnd.livy.statement-meta+json": {
              "spark_pool": "sparksmall",
              "session_id": "13",
              "statement_id": 13,
              "state": "finished",
              "livy_statement_state": "available",
              "queued_time": "2023-09-29T13:29:34.2890758Z",
              "session_start_time": null,
              "execution_start_time": "2023-09-29T13:29:34.4595947Z",
              "execution_finish_time": "2023-09-29T13:29:35.5880365Z",
              "spark_jobs": null,
              "parent_msg_id": "aa867807-9878-4666-98d6-ea313afb5764"
            },
            "text/plain": "StatementMeta(sparksmall, 13, 13, Finished, Available)"
          },
          "metadata": {}
        },
        {
          "output_type": "display_data",
          "data": {
            "application/vnd.synapse.widget-view+json": {
              "widget_id": "c4dc55d8-04b3-42bf-bafa-94082dae9716",
              "widget_type": "Synapse.DataFrame"
            },
            "text/plain": "SynapseWidget(Synapse.DataFrame, c4dc55d8-04b3-42bf-bafa-94082dae9716)"
          },
          "metadata": {}
        }
      ],
      "execution_count": 12,
      "metadata": {
        "jupyter": {
          "source_hidden": false,
          "outputs_hidden": false
        },
        "nteract": {
          "transient": {
            "deleting": false
          }
        },
        "collapsed": false
      }
    },
    {
      "cell_type": "code",
      "source": [
        "df.write.mode(\"overwrite\").json(\"abfss://synapse@wspdatalake2.dfs.core.windows.net/bronze/datasus_data.json\")"
      ],
      "outputs": [
        {
          "output_type": "display_data",
          "data": {
            "application/vnd.livy.statement-meta+json": {
              "spark_pool": "sparksmall",
              "session_id": "13",
              "statement_id": 7,
              "state": "finished",
              "livy_statement_state": "available",
              "queued_time": "2023-09-29T12:55:59.127396Z",
              "session_start_time": null,
              "execution_start_time": "2023-09-29T12:55:59.3283592Z",
              "execution_finish_time": "2023-09-29T12:56:26.7419077Z",
              "spark_jobs": null,
              "parent_msg_id": "6b1f7f40-7ca0-4cad-8d9d-14a9e72e7515"
            },
            "text/plain": "StatementMeta(sparksmall, 13, 7, Finished, Available)"
          },
          "metadata": {}
        }
      ],
      "execution_count": 6,
      "metadata": {
        "jupyter": {
          "source_hidden": false,
          "outputs_hidden": false
        },
        "nteract": {
          "transient": {
            "deleting": false
          }
        },
        "collapsed": false
      }
    },
    {
      "cell_type": "markdown",
      "source": [
        "#### Table"
      ],
      "metadata": {
        "nteract": {
          "transient": {
            "deleting": false
          }
        }
      }
    },
    {
      "cell_type": "code",
      "source": [
        "df_tb=df.select(\r\n",
        "    col(\"_source.document_id\").alias(\"cd_registro\"),\r\n",
        "    col(\"_source.@timestamp\").alias(\"dt_vacinacao\"),\r\n",
        "    col(\"_source.vacina_codigo\").alias(\"cd_vacina\"),\r\n",
        "    col(\"_source.pacient_id\").alias(\"cd_paciente\"),\r\n",
        "    col(\"_source.vacina_categoria_codigo\").alias(\"cd_categ_vacina\"),\r\n",
        "    col(\"_source.dt_deleted\").alias(\"dt_deletado\"),\r\n",
        "    col(\"_source.id_sistema_origem\").alias(\"cd_sys_org\"),\r\n",
        "    col(\"_source.estabelecimento_valor\").alias(\"cd_estabelecimento\"),\r\n",
        "    col(\"_source.vacina_lote\").alias(\"nr_lote_vacina\"),\r\n",
        "    col(\"_source.vacina_descricao_dose\").alias(\"ds_dose\")  \r\n",
        ").dropDuplicates().fillna({'cd_paciente': -1}\r\n",
        ").withColumn(\"year\", year(col(\"dt_vacinacao\").cast(\"timestamp\")))\\\r\n",
        ".withColumn(\"month\", month(col(\"dt_vacinacao\").cast(\"timestamp\")))\r\n"
      ],
      "outputs": [
        {
          "output_type": "display_data",
          "data": {
            "application/vnd.livy.statement-meta+json": {
              "spark_pool": "sparksmall",
              "session_id": "13",
              "statement_id": 8,
              "state": "finished",
              "livy_statement_state": "available",
              "queued_time": "2023-09-29T12:56:02.4356542Z",
              "session_start_time": null,
              "execution_start_time": "2023-09-29T12:56:26.9118228Z",
              "execution_finish_time": "2023-09-29T12:56:27.484374Z",
              "spark_jobs": null,
              "parent_msg_id": "1ab7abb8-9aa1-4bd1-89fd-a9c94be4f45e"
            },
            "text/plain": "StatementMeta(sparksmall, 13, 8, Finished, Available)"
          },
          "metadata": {}
        }
      ],
      "execution_count": 7,
      "metadata": {
        "jupyter": {
          "source_hidden": false,
          "outputs_hidden": false
        },
        "nteract": {
          "transient": {
            "deleting": false
          }
        },
        "collapsed": false
      }
    },
    {
      "cell_type": "markdown",
      "source": [
        "##### Write Json"
      ],
      "metadata": {
        "nteract": {
          "transient": {
            "deleting": false
          }
        }
      }
    },
    {
      "cell_type": "code",
      "source": [
        "df_tb.write.mode(\"overwrite\").json(\"abfss://synapse@wspdatalake2.dfs.core.windows.net/silver/datasus_data.json\")"
      ],
      "outputs": [
        {
          "output_type": "display_data",
          "data": {
            "application/vnd.livy.statement-meta+json": {
              "spark_pool": "sparksmall",
              "session_id": "13",
              "statement_id": 9,
              "state": "finished",
              "livy_statement_state": "available",
              "queued_time": "2023-09-29T12:56:03.6103519Z",
              "session_start_time": null,
              "execution_start_time": "2023-09-29T12:56:27.6452119Z",
              "execution_finish_time": "2023-09-29T12:56:36.4558331Z",
              "spark_jobs": null,
              "parent_msg_id": "edadcf68-9770-408f-b03b-c61eee0a97f4"
            },
            "text/plain": "StatementMeta(sparksmall, 13, 9, Finished, Available)"
          },
          "metadata": {}
        }
      ],
      "execution_count": 8,
      "metadata": {
        "jupyter": {
          "source_hidden": false,
          "outputs_hidden": false
        },
        "nteract": {
          "transient": {
            "deleting": false
          }
        }
      }
    },
    {
      "cell_type": "markdown",
      "source": [
        "#### Write Delta Table"
      ],
      "metadata": {
        "nteract": {
          "transient": {
            "deleting": false
          }
        }
      }
    },
    {
      "cell_type": "code",
      "source": [
        "df_tb.write.format('delta').mode('overwrite').saveAsTable('data.datasus')"
      ],
      "outputs": [
        {
          "output_type": "display_data",
          "data": {
            "application/vnd.livy.statement-meta+json": {
              "spark_pool": "sparksmall",
              "session_id": "13",
              "statement_id": 10,
              "state": "finished",
              "livy_statement_state": "available",
              "queued_time": "2023-09-29T12:56:04.5383898Z",
              "session_start_time": null,
              "execution_start_time": "2023-09-29T12:56:36.6394388Z",
              "execution_finish_time": "2023-09-29T12:57:16.5379468Z",
              "spark_jobs": null,
              "parent_msg_id": "19041371-919f-4965-933a-e459305ddf2e"
            },
            "text/plain": "StatementMeta(sparksmall, 13, 10, Finished, Available)"
          },
          "metadata": {}
        }
      ],
      "execution_count": 9,
      "metadata": {
        "jupyter": {
          "source_hidden": false,
          "outputs_hidden": false
        },
        "nteract": {
          "transient": {
            "deleting": false
          }
        }
      }
    },
    {
      "cell_type": "markdown",
      "source": [
        "##### Write Parquet"
      ],
      "metadata": {
        "nteract": {
          "transient": {
            "deleting": false
          }
        }
      }
    },
    {
      "cell_type": "code",
      "source": [
        "df_tb.write.partitionBy(\"year\", \"month\").mode(\"overwrite\").parquet(\"abfss://synapse@wspdatalake2.dfs.core.windows.net/silver/datasus_data\")"
      ],
      "outputs": [
        {
          "output_type": "display_data",
          "data": {
            "application/vnd.livy.statement-meta+json": {
              "spark_pool": "sparksmall",
              "session_id": "13",
              "statement_id": 11,
              "state": "finished",
              "livy_statement_state": "available",
              "queued_time": "2023-09-29T12:56:05.4809935Z",
              "session_start_time": null,
              "execution_start_time": "2023-09-29T12:57:16.698667Z",
              "execution_finish_time": "2023-09-29T12:57:22.1439341Z",
              "spark_jobs": null,
              "parent_msg_id": "5b6fec38-faa3-4cce-96e7-65e1f98a42f2"
            },
            "text/plain": "StatementMeta(sparksmall, 13, 11, Finished, Available)"
          },
          "metadata": {}
        }
      ],
      "execution_count": 10,
      "metadata": {
        "jupyter": {
          "source_hidden": false,
          "outputs_hidden": false
        },
        "nteract": {
          "transient": {
            "deleting": false
          }
        }
      }
    },
    {
      "cell_type": "markdown",
      "source": [
        "#### Analitico Estabelecimento"
      ],
      "metadata": {
        "nteract": {
          "transient": {
            "deleting": false
          }
        }
      }
    },
    {
      "cell_type": "code",
      "source": [
        "df_Estabel=df.select(\r\n",
        "    col(\"_source.estabelecimento_municipio_codigo\").alias(\"cd_municipio\"),\r\n",
        "    col(\"_source.estabelecimento_valor\").alias(\"cd_estabelecimento\"),\r\n",
        "    col(\"_source.estabelecimento_uf\").alias(\"ds_uf\"),\r\n",
        "    col(\"_source.estabelecimento_municipio_nome\").alias(\"ds_municipio\")\r\n",
        ").dropDuplicates()"
      ],
      "outputs": [
        {
          "output_type": "display_data",
          "data": {
            "application/vnd.livy.statement-meta+json": {
              "spark_pool": "sparksmall",
              "session_id": "13",
              "statement_id": 15,
              "state": "finished",
              "livy_statement_state": "available",
              "queued_time": "2023-09-29T13:36:14.7225965Z",
              "session_start_time": null,
              "execution_start_time": "2023-09-29T13:36:14.859665Z",
              "execution_finish_time": "2023-09-29T13:36:15.0320745Z",
              "spark_jobs": null,
              "parent_msg_id": "927d8b84-0b7a-4c68-8391-19d160382cda"
            },
            "text/plain": "StatementMeta(sparksmall, 13, 15, Finished, Available)"
          },
          "metadata": {}
        }
      ],
      "execution_count": 14,
      "metadata": {
        "jupyter": {
          "source_hidden": false,
          "outputs_hidden": false
        },
        "nteract": {
          "transient": {
            "deleting": false
          }
        }
      }
    },
    {
      "cell_type": "code",
      "source": [
        "df_Estabel.write.format('delta').mode('overwrite').saveAsTable('data.estabel')"
      ],
      "outputs": [
        {
          "output_type": "display_data",
          "data": {
            "application/vnd.livy.statement-meta+json": {
              "spark_pool": "sparksmall",
              "session_id": "13",
              "statement_id": 16,
              "state": "finished",
              "livy_statement_state": "available",
              "queued_time": "2023-09-29T13:37:55.7084282Z",
              "session_start_time": null,
              "execution_start_time": "2023-09-29T13:37:55.8677481Z",
              "execution_finish_time": "2023-09-29T13:38:04.7263013Z",
              "spark_jobs": null,
              "parent_msg_id": "28b5bfe5-b58e-44ed-8b32-9919e190281f"
            },
            "text/plain": "StatementMeta(sparksmall, 13, 16, Finished, Available)"
          },
          "metadata": {}
        }
      ],
      "execution_count": 15,
      "metadata": {
        "jupyter": {
          "source_hidden": false,
          "outputs_hidden": false
        },
        "nteract": {
          "transient": {
            "deleting": false
          }
        }
      }
    },
    {
      "cell_type": "markdown",
      "source": [
        "#### Dados da Vacina"
      ],
      "metadata": {
        "nteract": {
          "transient": {
            "deleting": false
          }
        }
      }
    },
    {
      "cell_type": "code",
      "source": [
        "df_vac=df.select(\r\n",
        "    col(\"_source.document_id\").alias(\"cd_registro\"),\r\n",
        "    col(\"_source.vacina_codigo\").alias(\"cd_vacina\"),\r\n",
        "    col(\"_source.vacina_nome\").alias(\"ds_vacina\"),\r\n",
        "    col(\"_source.vacina_categoria_codigo\").alias(\"cd_categ_vacina\"),\r\n",
        "    col(\"_source.vacina_lote\").alias(\"nr_lote_vacina\"),\r\n",
        "    col(\"_source.vacina_descricao_dose\").alias(\"ds_dose\") \r\n",
        ").dropDuplicates()\r\n"
      ],
      "outputs": [
        {
          "output_type": "display_data",
          "data": {
            "application/vnd.livy.statement-meta+json": {
              "spark_pool": "sparksmall",
              "session_id": "13",
              "statement_id": 14,
              "state": "finished",
              "livy_statement_state": "available",
              "queued_time": "2023-09-29T13:36:11.9619182Z",
              "session_start_time": null,
              "execution_start_time": "2023-09-29T13:36:12.1883611Z",
              "execution_finish_time": "2023-09-29T13:36:12.3812112Z",
              "spark_jobs": null,
              "parent_msg_id": "08b765c9-08c1-4452-abd5-5de305133ede"
            },
            "text/plain": "StatementMeta(sparksmall, 13, 14, Finished, Available)"
          },
          "metadata": {}
        }
      ],
      "execution_count": 13,
      "metadata": {
        "jupyter": {
          "source_hidden": false,
          "outputs_hidden": false
        },
        "nteract": {
          "transient": {
            "deleting": false
          }
        }
      }
    },
    {
      "cell_type": "code",
      "source": [
        "df_vac.write.format('delta').mode('overwrite').saveAsTable('data.vac_dat')"
      ],
      "outputs": [
        {
          "output_type": "display_data",
          "data": {
            "application/vnd.livy.statement-meta+json": {
              "spark_pool": "sparksmall",
              "session_id": "13",
              "statement_id": 17,
              "state": "finished",
              "livy_statement_state": "available",
              "queued_time": "2023-09-29T13:37:58.0106292Z",
              "session_start_time": null,
              "execution_start_time": "2023-09-29T13:38:04.9130006Z",
              "execution_finish_time": "2023-09-29T13:38:11.899727Z",
              "spark_jobs": null,
              "parent_msg_id": "c7e532ab-3ac7-42e2-b813-811964a708ce"
            },
            "text/plain": "StatementMeta(sparksmall, 13, 17, Finished, Available)"
          },
          "metadata": {}
        }
      ],
      "execution_count": 16,
      "metadata": {
        "jupyter": {
          "source_hidden": false,
          "outputs_hidden": false
        },
        "nteract": {
          "transient": {
            "deleting": false
          }
        }
      }
    },
    {
      "cell_type": "code",
      "source": [],
      "outputs": [],
      "execution_count": null,
      "metadata": {
        "jupyter": {
          "source_hidden": false,
          "outputs_hidden": false
        },
        "nteract": {
          "transient": {
            "deleting": false
          }
        }
      }
    }
  ],
  "metadata": {
    "kernelspec": {
      "name": "synapse_pyspark",
      "language": "Python",
      "display_name": "Synapse PySpark"
    },
    "language_info": {
      "name": "python"
    },
    "kernel_info": {
      "name": "synapse_pyspark"
    },
    "description": null,
    "save_output": true,
    "synapse_widget": {
      "version": "0.1",
      "state": {
        "c4dc55d8-04b3-42bf-bafa-94082dae9716": {
          "type": "Synapse.DataFrame",
          "sync_state": {
            "table": {
              "rows": [
                {
                  "0": "64d58348-aa3f-493a-8bf0-e71708a02840-i0b0",
                  "1": "desc-imunizacao-v5",
                  "2": "1.0",
                  "3": {
                    "paciente_endereco_uf": "MT",
                    "@timestamp": "2023-09-28T21:16:38.198Z",
                    "estabelecimento_municipio_codigo": "510250",
                    "estabelecimento_uf": "MT",
                    "paciente_racaCor_valor": "PARDA",
                    "vacina_fabricante_nome": "SINOVAC/BUTANTAN",
                    "vacina_categoria_codigo": "2",
                    "estalecimento_noFantasia": "UNIDADE MEDICA MOVEL",
                    "vacina_codigo": "86",
                    "paciente_endereco_coPais": "10",
                    "document_id": "64d58348-aa3f-493a-8bf0-e71708a02840-i0b0",
                    "paciente_dataNascimento": "2009-11-29",
                    "paciente_endereco_nmMunicipio": "CACERES",
                    "paciente_idade": "13",
                    "vacina_categoria_nome": "Faixa Etária",
                    "ds_condicao_maternal": "Nenhuma",
                    "vacina_numDose": "3",
                    "data_importacao_datalake": "2023-09-28T18:07:35Z",
                    "sistema_origem": "Novo PNI",
                    "estabelecimento_municipio_nome": "CACERES",
                    "dt_deleted": null,
                    "vacina_grupoAtendimento_nome": "Faixa Etária",
                    "paciente_endereco_cep": "78210",
                    "vacina_fabricante_referencia": "152",
                    "vacina_grupoAtendimento_codigo": "000210",
                    "vacina_nome": "COVID-19 SINOVAC/BUTANTAN - CORONAVAC",
                    "id_sistema_origem": "16341",
                    "status": "final",
                    "paciente_id": "ac0ebf8baa0ab87fb1b8b10a63ded179c447c69cc509b6da09a121686d06a599",
                    "paciente_nacionalidade_enumNacionalidade": "B",
                    "paciente_racaCor_codigo": "03",
                    "paciente_endereco_nmPais": "BRASIL",
                    "co_condicao_maternal": "1",
                    "data_importacao_rnds": "2023-09-28T13:56:25Z",
                    "paciente_endereco_coIbgeMunicipio": "510250",
                    "vacina_descricao_dose": "3ª Dose",
                    "estabelecimento_valor": "9290672",
                    "vacina_lote": "220311",
                    "@version": "1",
                    "vacina_dataAplicacao": "2023-09-28T00:00:00Z",
                    "paciente_enumSexoBiologico": "M",
                    "estabelecimento_razaoSocial": "MUNICIPIO DE CACERES"
                  },
                  "4": "_doc"
                },
                {
                  "0": "331aa07e-a53d-4d90-9767-8ab82f50a960-i0b0",
                  "1": "desc-imunizacao-v5",
                  "2": "1.0",
                  "3": {
                    "paciente_endereco_uf": "RJ",
                    "@timestamp": "2023-09-28T21:16:38.414Z",
                    "estabelecimento_municipio_codigo": "330455",
                    "estabelecimento_uf": "RJ",
                    "paciente_racaCor_valor": "BRANCA",
                    "vacina_fabricante_nome": "PFIZER - PEDIÁTRICA",
                    "vacina_categoria_codigo": "2",
                    "estalecimento_noFantasia": "SMS CMS JORGE SALDANHA BANDEIRA DE MELLO AP 40",
                    "vacina_codigo": "99",
                    "paciente_endereco_coPais": "10",
                    "document_id": "331aa07e-a53d-4d90-9767-8ab82f50a960-i0b0",
                    "paciente_dataNascimento": "2011-10-22",
                    "paciente_endereco_nmMunicipio": "RIO DE JANEIRO",
                    "paciente_idade": "11",
                    "vacina_categoria_nome": "Faixa Etária",
                    "ds_condicao_maternal": "Nenhuma",
                    "vacina_numDose": "3",
                    "data_importacao_datalake": "2023-09-28T18:07:35Z",
                    "sistema_origem": "Novo PNI",
                    "estabelecimento_municipio_nome": "RIO DE JANEIRO",
                    "dt_deleted": null,
                    "vacina_grupoAtendimento_nome": "Faixa Etária",
                    "paciente_endereco_cep": "22763",
                    "vacina_fabricante_referencia": "28290",
                    "vacina_grupoAtendimento_codigo": "000210",
                    "vacina_nome": "COVID-19 PFIZER - COMIRNATY PEDIÁTRICA",
                    "id_sistema_origem": "16341",
                    "status": "final",
                    "paciente_id": "5e9ef3a185f98af704837678aa8293295edc1d13afebea56b13662a122ba9fc9",
                    "paciente_nacionalidade_enumNacionalidade": "B",
                    "paciente_racaCor_codigo": "01",
                    "paciente_endereco_nmPais": "BRASIL",
                    "co_condicao_maternal": "1",
                    "data_importacao_rnds": "2023-09-28T15:30:14Z",
                    "paciente_endereco_coIbgeMunicipio": "330455",
                    "vacina_descricao_dose": "3ª Dose",
                    "estabelecimento_valor": "2296543",
                    "vacina_lote": "GN0764",
                    "@version": "1",
                    "vacina_dataAplicacao": "2023-09-25T00:00:00Z",
                    "paciente_enumSexoBiologico": "F",
                    "estabelecimento_razaoSocial": "SMS RIO CMS JORGE SALDANHA BANDEIRA DE MELLO AP 40"
                  },
                  "4": "_doc"
                },
                {
                  "0": "a9b3b40e-0ff3-47dd-9c42-13e39d7e7f0d-i0b0",
                  "1": "desc-imunizacao-v5",
                  "2": "1.0",
                  "3": {
                    "paciente_endereco_uf": "MG",
                    "@timestamp": "2023-09-28T21:16:38.415Z",
                    "estabelecimento_municipio_codigo": "311370",
                    "estabelecimento_uf": "MG",
                    "paciente_racaCor_valor": "PARDA",
                    "vacina_fabricante_nome": "PFIZER - PEDIÁTRICA",
                    "vacina_categoria_codigo": "2",
                    "estalecimento_noFantasia": "UNIDADE BASICA DE SAUDE JUA",
                    "vacina_codigo": "99",
                    "paciente_endereco_coPais": "10",
                    "document_id": "a9b3b40e-0ff3-47dd-9c42-13e39d7e7f0d-i0b0",
                    "paciente_dataNascimento": "2017-06-08",
                    "paciente_endereco_nmMunicipio": "CARLOS CHAGAS",
                    "paciente_idade": "6",
                    "vacina_categoria_nome": "Faixa Etária",
                    "ds_condicao_maternal": "Nenhuma",
                    "vacina_numDose": "3",
                    "data_importacao_datalake": "2023-09-28T18:07:35Z",
                    "sistema_origem": "Novo PNI",
                    "estabelecimento_municipio_nome": "CARLOS CHAGAS",
                    "dt_deleted": null,
                    "vacina_grupoAtendimento_nome": "Faixa Etária",
                    "paciente_endereco_cep": "39864",
                    "vacina_fabricante_referencia": "28290",
                    "vacina_grupoAtendimento_codigo": "000210",
                    "vacina_nome": "COVID-19 PFIZER - COMIRNATY PEDIÁTRICA",
                    "id_sistema_origem": "16341",
                    "status": "final",
                    "paciente_id": "925da0790dee265fd34134ab41bdc98f4c4ed2f6e7a1487b3a2546cb81b4aa97",
                    "paciente_nacionalidade_enumNacionalidade": "B",
                    "paciente_racaCor_codigo": "03",
                    "paciente_endereco_nmPais": "BRASIL",
                    "co_condicao_maternal": "1",
                    "data_importacao_rnds": "2023-09-28T12:34:54Z",
                    "paciente_endereco_coIbgeMunicipio": "311370",
                    "vacina_descricao_dose": "3ª Dose",
                    "estabelecimento_valor": "5061601",
                    "vacina_lote": "GN0764",
                    "@version": "1",
                    "vacina_dataAplicacao": "2023-09-28T00:00:00Z",
                    "paciente_enumSexoBiologico": "M",
                    "estabelecimento_razaoSocial": "PREFEITURA MUNICIPAL DE CARLOS CHAGAS"
                  },
                  "4": "_doc"
                },
                {
                  "0": "4f3d7a94-126c-4b96-b956-61ab8a10ab8f-i0b0",
                  "1": "desc-imunizacao-v5",
                  "2": "1.0",
                  "3": {
                    "paciente_endereco_uf": "MG",
                    "@timestamp": "2023-09-28T21:16:38.417Z",
                    "estabelecimento_municipio_codigo": "311830",
                    "estabelecimento_uf": "MG",
                    "paciente_racaCor_valor": "BRANCA",
                    "vacina_fabricante_nome": "PFIZER - PEDIÁTRICA",
                    "vacina_categoria_codigo": "2",
                    "estalecimento_noFantasia": "UNIDADE DE VACINACAO",
                    "vacina_codigo": "99",
                    "paciente_endereco_coPais": "10",
                    "document_id": "4f3d7a94-126c-4b96-b956-61ab8a10ab8f-i0b0",
                    "paciente_dataNascimento": "2012-09-16",
                    "paciente_endereco_nmMunicipio": "CONSELHEIRO LAFAIETE",
                    "paciente_idade": "10",
                    "vacina_categoria_nome": "Faixa Etária",
                    "ds_condicao_maternal": "Nenhuma",
                    "vacina_numDose": "3",
                    "data_importacao_datalake": "2023-09-28T18:07:35Z",
                    "sistema_origem": "Novo PNI",
                    "estabelecimento_municipio_nome": "CONSELHEIRO LAFAIETE",
                    "dt_deleted": null,
                    "vacina_grupoAtendimento_nome": "Faixa Etária",
                    "paciente_endereco_cep": "36400",
                    "vacina_fabricante_referencia": "28290",
                    "vacina_grupoAtendimento_codigo": "000210",
                    "vacina_nome": "COVID-19 PFIZER - COMIRNATY PEDIÁTRICA",
                    "id_sistema_origem": "16341",
                    "status": "final",
                    "paciente_id": "d5fd9d479314dca841a211e2dd2de4911c8b959b03674c4b4bb1d9f323075459",
                    "paciente_nacionalidade_enumNacionalidade": "B",
                    "paciente_racaCor_codigo": "01",
                    "paciente_endereco_nmPais": "BRASIL",
                    "co_condicao_maternal": "1",
                    "data_importacao_rnds": "2023-09-27T20:13:36Z",
                    "paciente_endereco_coIbgeMunicipio": "311830",
                    "vacina_descricao_dose": "3ª Dose",
                    "estabelecimento_valor": "7332262",
                    "vacina_lote": "GG3661",
                    "@version": "1",
                    "vacina_dataAplicacao": "2023-05-25T00:00:00Z",
                    "paciente_enumSexoBiologico": "M",
                    "estabelecimento_razaoSocial": "MUNICIPIO DE CONSELHEIRO LAFAIETE"
                  },
                  "4": "_doc"
                },
                {
                  "0": "9bd816f3-34b0-4b52-ac4b-1f8cf4670658-i0b0",
                  "1": "desc-imunizacao-v5",
                  "2": "1.0",
                  "3": {
                    "paciente_endereco_uf": "ES",
                    "@timestamp": "2023-09-28T21:16:38.667Z",
                    "estabelecimento_municipio_codigo": "320225",
                    "estabelecimento_uf": "ES",
                    "paciente_racaCor_valor": "BRANCA",
                    "vacina_fabricante_nome": "PFIZER - PEDIÁTRICA",
                    "vacina_categoria_codigo": "2",
                    "estalecimento_noFantasia": "UNIDADE BASICA DE SAUDE SILVINO DE CASTRO",
                    "vacina_codigo": "99",
                    "paciente_endereco_coPais": "10",
                    "document_id": "9bd816f3-34b0-4b52-ac4b-1f8cf4670658-i0b0",
                    "paciente_dataNascimento": "2017-09-25",
                    "paciente_endereco_nmMunicipio": "GOVERNADOR LINDENBERG",
                    "paciente_idade": "5",
                    "vacina_categoria_nome": "Faixa Etária",
                    "ds_condicao_maternal": null,
                    "vacina_numDose": "2",
                    "data_importacao_datalake": "2023-09-28T18:07:35Z",
                    "sistema_origem": "VACINA E CONFIA ES",
                    "estabelecimento_municipio_nome": "GOVERNADOR LINDENBERG",
                    "dt_deleted": null,
                    "vacina_grupoAtendimento_nome": "Faixa Etária",
                    "paciente_endereco_cep": "29920",
                    "vacina_fabricante_referencia": null,
                    "vacina_grupoAtendimento_codigo": "000210",
                    "vacina_nome": "COVID-19 PFIZER - COMIRNATY PEDIÁTRICA",
                    "id_sistema_origem": "24294",
                    "status": "final",
                    "paciente_id": "2b76af03640eecb2d8f399a7b2ffb5cc84c5e242d5f75bee69340275b41817ab",
                    "paciente_nacionalidade_enumNacionalidade": "B",
                    "paciente_racaCor_codigo": "01",
                    "paciente_endereco_nmPais": "BRASIL",
                    "co_condicao_maternal": null,
                    "data_importacao_rnds": "2023-09-28T04:29:56Z",
                    "paciente_endereco_coIbgeMunicipio": "320225",
                    "vacina_descricao_dose": "2ª Dose",
                    "estabelecimento_valor": "2445735",
                    "vacina_lote": "GN0764",
                    "@version": "1",
                    "vacina_dataAplicacao": "2023-09-19T00:00:00Z",
                    "paciente_enumSexoBiologico": "M",
                    "estabelecimento_razaoSocial": "PREFEITURA MUNICIPAL DE GOVERNADOR LINDENBERG"
                  },
                  "4": "_doc"
                },
                {
                  "0": "f9eb6f50-61ab-4abf-baa6-c293a7db0578-i0b0",
                  "1": "desc-imunizacao-v5",
                  "2": "1.0",
                  "3": {
                    "paciente_endereco_uf": "PR",
                    "@timestamp": "2023-09-28T21:16:38.671Z",
                    "estabelecimento_municipio_codigo": "410490",
                    "estabelecimento_uf": "PR",
                    "paciente_racaCor_valor": "SEM INFORMACAO",
                    "vacina_fabricante_nome": "PFIZER",
                    "vacina_categoria_codigo": "2",
                    "estalecimento_noFantasia": "UNIDADE DE SAUDE DA FAMILIA ABAPAN I",
                    "vacina_codigo": "87",
                    "paciente_endereco_coPais": "10",
                    "document_id": "f9eb6f50-61ab-4abf-baa6-c293a7db0578-i0b0",
                    "paciente_dataNascimento": "2005-05-17",
                    "paciente_endereco_nmMunicipio": "CASTRO",
                    "paciente_idade": "18",
                    "vacina_categoria_nome": "Faixa Etária",
                    "ds_condicao_maternal": "Nenhuma",
                    "vacina_numDose": "2",
                    "data_importacao_datalake": "2023-09-28T18:07:35Z",
                    "sistema_origem": "Novo PNI",
                    "estabelecimento_municipio_nome": "CASTRO",
                    "dt_deleted": null,
                    "vacina_grupoAtendimento_nome": "Faixa Etária",
                    "paciente_endereco_cep": "84185",
                    "vacina_fabricante_referencia": "28290",
                    "vacina_grupoAtendimento_codigo": "000210",
                    "vacina_nome": "COVID-19 PFIZER - COMIRNATY",
                    "id_sistema_origem": "16341",
                    "status": "final",
                    "paciente_id": "5f20c478fe1f8ac37edc38d0616bb132e3999c249d1dac73e99426a7f70646b6",
                    "paciente_nacionalidade_enumNacionalidade": "B",
                    "paciente_racaCor_codigo": "99",
                    "paciente_endereco_nmPais": "BRASIL",
                    "co_condicao_maternal": "1",
                    "data_importacao_rnds": "2023-09-28T17:26:12Z",
                    "paciente_endereco_coIbgeMunicipio": "410490",
                    "vacina_descricao_dose": "2ª Dose",
                    "estabelecimento_valor": "2684039",
                    "vacina_lote": "2F1071A",
                    "@version": "1",
                    "vacina_dataAplicacao": "2023-09-19T00:00:00Z",
                    "paciente_enumSexoBiologico": "F",
                    "estabelecimento_razaoSocial": "MUNICIPIO DE CASTRO"
                  },
                  "4": "_doc"
                },
                {
                  "0": "d933a9df-b948-4c7f-8391-671dda95e342-i0b0",
                  "1": "desc-imunizacao-v5",
                  "2": "1.0",
                  "3": {
                    "paciente_endereco_uf": "MA",
                    "@timestamp": "2023-09-28T21:16:38.817Z",
                    "estabelecimento_municipio_codigo": "211120",
                    "estabelecimento_uf": "MA",
                    "paciente_racaCor_valor": "AMARELA",
                    "vacina_fabricante_nome": "PFIZER",
                    "vacina_categoria_codigo": "2",
                    "estalecimento_noFantasia": "UBS NOVA TERRA",
                    "vacina_codigo": "87",
                    "paciente_endereco_coPais": "10",
                    "document_id": "d933a9df-b948-4c7f-8391-671dda95e342-i0b0",
                    "paciente_dataNascimento": "2009-10-31",
                    "paciente_endereco_nmMunicipio": "SAO LUIS",
                    "paciente_idade": "13",
                    "vacina_categoria_nome": "Faixa Etária",
                    "ds_condicao_maternal": "Nenhuma",
                    "vacina_numDose": "3",
                    "data_importacao_datalake": "2023-09-28T18:07:35Z",
                    "sistema_origem": "Novo PNI",
                    "estabelecimento_municipio_nome": "SAO JOSE DE RIBAMAR",
                    "dt_deleted": null,
                    "vacina_grupoAtendimento_nome": "Faixa Etária",
                    "paciente_endereco_cep": "65040",
                    "vacina_fabricante_referencia": "28290",
                    "vacina_grupoAtendimento_codigo": "000210",
                    "vacina_nome": "COVID-19 PFIZER - COMIRNATY",
                    "id_sistema_origem": "16341",
                    "status": "final",
                    "paciente_id": "bb5b526677e36691b8d9f13d72b34e9b646747ef381850247fafe98649e389c6",
                    "paciente_nacionalidade_enumNacionalidade": "B",
                    "paciente_racaCor_codigo": "04",
                    "paciente_endereco_nmPais": "BRASIL",
                    "co_condicao_maternal": "1",
                    "data_importacao_rnds": "2023-09-28T12:40:56Z",
                    "paciente_endereco_coIbgeMunicipio": "211130",
                    "vacina_descricao_dose": "3ª Dose",
                    "estabelecimento_valor": "7836163",
                    "vacina_lote": "2F1071A",
                    "@version": "1",
                    "vacina_dataAplicacao": "2023-09-13T00:00:00Z",
                    "paciente_enumSexoBiologico": "F",
                    "estabelecimento_razaoSocial": "PREFEITURA MUNICIPAL DE SAO JOSE DE RIBAMAR"
                  },
                  "4": "_doc"
                },
                {
                  "0": "ba230c5b-35fd-4ff1-b37c-26c8fca3a335-i0b0",
                  "1": "desc-imunizacao-v5",
                  "2": "1.0",
                  "3": {
                    "paciente_endereco_uf": "PE",
                    "@timestamp": "2023-09-28T21:16:38.729Z",
                    "estabelecimento_municipio_codigo": "260620",
                    "estabelecimento_uf": "PE",
                    "paciente_racaCor_valor": "PARDA",
                    "vacina_fabricante_nome": "PFIZER",
                    "vacina_categoria_codigo": "2",
                    "estalecimento_noFantasia": "USF NOVA GOIANA",
                    "vacina_codigo": "87",
                    "paciente_endereco_coPais": "10",
                    "document_id": "ba230c5b-35fd-4ff1-b37c-26c8fca3a335-i0b0",
                    "paciente_dataNascimento": "2010-09-21",
                    "paciente_endereco_nmMunicipio": "GOIANA",
                    "paciente_idade": "13",
                    "vacina_categoria_nome": "Faixa Etária",
                    "ds_condicao_maternal": "Nenhuma",
                    "vacina_numDose": "2",
                    "data_importacao_datalake": "2023-09-28T18:07:35Z",
                    "sistema_origem": "Novo PNI",
                    "estabelecimento_municipio_nome": "GOIANA",
                    "dt_deleted": null,
                    "vacina_grupoAtendimento_nome": "Faixa Etária",
                    "paciente_endereco_cep": "55900",
                    "vacina_fabricante_referencia": "28290",
                    "vacina_grupoAtendimento_codigo": "000210",
                    "vacina_nome": "COVID-19 PFIZER - COMIRNATY",
                    "id_sistema_origem": "16341",
                    "status": "final",
                    "paciente_id": "c181165b75e90c759f35f5870e3513d7e87548135ebe0ac0c3457c8dc01f887c",
                    "paciente_nacionalidade_enumNacionalidade": "B",
                    "paciente_racaCor_codigo": "03",
                    "paciente_endereco_nmPais": "BRASIL",
                    "co_condicao_maternal": "1",
                    "data_importacao_rnds": "2023-09-28T17:27:47Z",
                    "paciente_endereco_coIbgeMunicipio": "260620",
                    "vacina_descricao_dose": "2ª Dose",
                    "estabelecimento_valor": "2428857",
                    "vacina_lote": "2F1071A",
                    "@version": "1",
                    "vacina_dataAplicacao": "2023-09-28T00:00:00Z",
                    "paciente_enumSexoBiologico": "M",
                    "estabelecimento_razaoSocial": "FUNDO MUNICIPAL DE SAUDE DE GOIANA"
                  },
                  "4": "_doc"
                },
                {
                  "0": "4aea46f7-89d2-453d-b6ff-97558a96f8b9-i0b0",
                  "1": "desc-imunizacao-v5",
                  "2": "1.0",
                  "3": {
                    "paciente_endereco_uf": "PR",
                    "@timestamp": "2023-09-28T21:16:38.729Z",
                    "estabelecimento_municipio_codigo": "411520",
                    "estabelecimento_uf": "PR",
                    "paciente_racaCor_valor": "BRANCA",
                    "vacina_fabricante_nome": "PFIZER",
                    "vacina_categoria_codigo": "1",
                    "estalecimento_noFantasia": "POLICLINICA PRIMO MARCELO MONTESCHIO ZONA SUL",
                    "vacina_codigo": "87",
                    "paciente_endereco_coPais": "10",
                    "document_id": "4aea46f7-89d2-453d-b6ff-97558a96f8b9-i0b0",
                    "paciente_dataNascimento": "1992-09-19",
                    "paciente_endereco_nmMunicipio": "MARINGA",
                    "paciente_idade": "29",
                    "vacina_categoria_nome": "Comorbidades",
                    "ds_condicao_maternal": null,
                    "vacina_numDose": "37",
                    "data_importacao_datalake": "2023-09-28T18:07:35Z",
                    "sistema_origem": "Sistema Gestor de Saúde",
                    "estabelecimento_municipio_nome": "MARINGA",
                    "dt_deleted": null,
                    "vacina_grupoAtendimento_nome": "Pneumopatias Crônicas Graves",
                    "paciente_endereco_cep": "87005",
                    "vacina_fabricante_referencia": null,
                    "vacina_grupoAtendimento_codigo": "000104",
                    "vacina_nome": "COVID-19 PFIZER - COMIRNATY",
                    "id_sistema_origem": "19307",
                    "status": "final",
                    "paciente_id": "39b61260b5dc7e40c4c167081fc7031fed15ba2d35ee911d0b2e7f3cff6969a3",
                    "paciente_nacionalidade_enumNacionalidade": "B",
                    "paciente_racaCor_codigo": "01",
                    "paciente_endereco_nmPais": "BRASIL",
                    "co_condicao_maternal": null,
                    "data_importacao_rnds": "2023-09-28T12:52:10Z",
                    "paciente_endereco_coIbgeMunicipio": "411520",
                    "vacina_descricao_dose": "Dose Adicional",
                    "estabelecimento_valor": "2586398",
                    "vacina_lote": "FP7082",
                    "@version": "1",
                    "vacina_dataAplicacao": "2022-05-16T00:00:00Z",
                    "paciente_enumSexoBiologico": "F",
                    "estabelecimento_razaoSocial": "PREFEITURA DO MUNICIPIO DE MARINGA"
                  },
                  "4": "_doc"
                },
                {
                  "0": "a561e1e8-3df8-460a-a85c-9b959130e1ac-i0b0",
                  "1": "desc-imunizacao-v5",
                  "2": "1.0",
                  "3": {
                    "paciente_endereco_uf": "BA",
                    "@timestamp": "2023-09-28T21:16:38.742Z",
                    "estabelecimento_municipio_codigo": "292560",
                    "estabelecimento_uf": "BA",
                    "paciente_racaCor_valor": "AMARELA",
                    "vacina_fabricante_nome": "SINOVAC/BUTANTAN",
                    "vacina_categoria_codigo": "2",
                    "estalecimento_noFantasia": "UNIDADE DE SAUDE DA FAMILIA SEDE I",
                    "vacina_codigo": "86",
                    "paciente_endereco_coPais": "10",
                    "document_id": "a561e1e8-3df8-460a-a85c-9b959130e1ac-i0b0",
                    "paciente_dataNascimento": "2012-05-30",
                    "paciente_endereco_nmMunicipio": "PRESIDENTE DUTRA",
                    "paciente_idade": "11",
                    "vacina_categoria_nome": "Faixa Etária",
                    "ds_condicao_maternal": "Nenhuma",
                    "vacina_numDose": "10",
                    "data_importacao_datalake": "2023-09-28T18:07:35Z",
                    "sistema_origem": "Novo PNI",
                    "estabelecimento_municipio_nome": "PRESIDENTE DUTRA",
                    "dt_deleted": null,
                    "vacina_grupoAtendimento_nome": "Faixa Etária",
                    "paciente_endereco_cep": "44930",
                    "vacina_fabricante_referencia": "152",
                    "vacina_grupoAtendimento_codigo": "000210",
                    "vacina_nome": "COVID-19 SINOVAC/BUTANTAN - CORONAVAC",
                    "id_sistema_origem": "16341",
                    "status": "final",
                    "paciente_id": "8532a68e9fa6192f702e7d0d3fe94f7b7a9d00cdb28fd7a3ba6eb43b3ff6a687",
                    "paciente_nacionalidade_enumNacionalidade": "B",
                    "paciente_racaCor_codigo": "04",
                    "paciente_endereco_nmPais": "BRASIL",
                    "co_condicao_maternal": "1",
                    "data_importacao_rnds": "2023-09-28T11:22:25Z",
                    "paciente_endereco_coIbgeMunicipio": "292560",
                    "vacina_descricao_dose": "Revacinação",
                    "estabelecimento_valor": "5903793",
                    "vacina_lote": "230093",
                    "@version": "1",
                    "vacina_dataAplicacao": "2023-09-19T00:00:00Z",
                    "paciente_enumSexoBiologico": "F",
                    "estabelecimento_razaoSocial": "PREFEITURA MUNICIPAL DE PRESIDENTE DUTRA"
                  },
                  "4": "_doc"
                }
              ],
              "schema": [
                {
                  "key": "0",
                  "name": "_id",
                  "type": "string"
                },
                {
                  "key": "1",
                  "name": "_index",
                  "type": "string"
                },
                {
                  "key": "2",
                  "name": "_score",
                  "type": "double"
                },
                {
                  "key": "3",
                  "name": "_source",
                  "type": "MapType(StringType,StringType,true)"
                },
                {
                  "key": "4",
                  "name": "_type",
                  "type": "string"
                }
              ],
              "truncated": false
            },
            "isSummary": false,
            "language": "scala"
          },
          "persist_state": {
            "view": {
              "type": "details",
              "tableOptions": {},
              "chartOptions": {
                "chartType": "bar",
                "aggregationType": "sum",
                "categoryFieldKeys": [
                  "0"
                ],
                "seriesFieldKeys": [
                  "2"
                ],
                "isStacked": false
              }
            }
          }
        }
      }
    }
  },
  "nbformat": 4,
  "nbformat_minor": 2
}